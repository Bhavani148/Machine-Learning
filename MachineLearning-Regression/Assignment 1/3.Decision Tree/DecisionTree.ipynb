{
 "cells": [
  {
   "cell_type": "code",
   "execution_count": 2,
   "metadata": {},
   "outputs": [],
   "source": [
    "import pandas as pd"
   ]
  },
  {
   "cell_type": "code",
   "execution_count": 3,
   "metadata": {},
   "outputs": [],
   "source": [
    "dataset=pd.read_csv(\"insurance_pre.csv\")"
   ]
  },
  {
   "cell_type": "code",
   "execution_count": 4,
   "metadata": {},
   "outputs": [],
   "source": [
    "dataset=pd.get_dummies(dataset,drop_first=True)"
   ]
  },
  {
   "cell_type": "code",
   "execution_count": 5,
   "metadata": {},
   "outputs": [
    {
     "data": {
      "text/html": [
       "<div>\n",
       "<style scoped>\n",
       "    .dataframe tbody tr th:only-of-type {\n",
       "        vertical-align: middle;\n",
       "    }\n",
       "\n",
       "    .dataframe tbody tr th {\n",
       "        vertical-align: top;\n",
       "    }\n",
       "\n",
       "    .dataframe thead th {\n",
       "        text-align: right;\n",
       "    }\n",
       "</style>\n",
       "<table border=\"1\" class=\"dataframe\">\n",
       "  <thead>\n",
       "    <tr style=\"text-align: right;\">\n",
       "      <th></th>\n",
       "      <th>age</th>\n",
       "      <th>bmi</th>\n",
       "      <th>children</th>\n",
       "      <th>charges</th>\n",
       "      <th>sex_male</th>\n",
       "      <th>smoker_yes</th>\n",
       "    </tr>\n",
       "  </thead>\n",
       "  <tbody>\n",
       "    <tr>\n",
       "      <td>0</td>\n",
       "      <td>19</td>\n",
       "      <td>27.900</td>\n",
       "      <td>0</td>\n",
       "      <td>16884.92400</td>\n",
       "      <td>0</td>\n",
       "      <td>1</td>\n",
       "    </tr>\n",
       "    <tr>\n",
       "      <td>1</td>\n",
       "      <td>18</td>\n",
       "      <td>33.770</td>\n",
       "      <td>1</td>\n",
       "      <td>1725.55230</td>\n",
       "      <td>1</td>\n",
       "      <td>0</td>\n",
       "    </tr>\n",
       "    <tr>\n",
       "      <td>2</td>\n",
       "      <td>28</td>\n",
       "      <td>33.000</td>\n",
       "      <td>3</td>\n",
       "      <td>4449.46200</td>\n",
       "      <td>1</td>\n",
       "      <td>0</td>\n",
       "    </tr>\n",
       "    <tr>\n",
       "      <td>3</td>\n",
       "      <td>33</td>\n",
       "      <td>22.705</td>\n",
       "      <td>0</td>\n",
       "      <td>21984.47061</td>\n",
       "      <td>1</td>\n",
       "      <td>0</td>\n",
       "    </tr>\n",
       "    <tr>\n",
       "      <td>4</td>\n",
       "      <td>32</td>\n",
       "      <td>28.880</td>\n",
       "      <td>0</td>\n",
       "      <td>3866.85520</td>\n",
       "      <td>1</td>\n",
       "      <td>0</td>\n",
       "    </tr>\n",
       "    <tr>\n",
       "      <td>...</td>\n",
       "      <td>...</td>\n",
       "      <td>...</td>\n",
       "      <td>...</td>\n",
       "      <td>...</td>\n",
       "      <td>...</td>\n",
       "      <td>...</td>\n",
       "    </tr>\n",
       "    <tr>\n",
       "      <td>1333</td>\n",
       "      <td>50</td>\n",
       "      <td>30.970</td>\n",
       "      <td>3</td>\n",
       "      <td>10600.54830</td>\n",
       "      <td>1</td>\n",
       "      <td>0</td>\n",
       "    </tr>\n",
       "    <tr>\n",
       "      <td>1334</td>\n",
       "      <td>18</td>\n",
       "      <td>31.920</td>\n",
       "      <td>0</td>\n",
       "      <td>2205.98080</td>\n",
       "      <td>0</td>\n",
       "      <td>0</td>\n",
       "    </tr>\n",
       "    <tr>\n",
       "      <td>1335</td>\n",
       "      <td>18</td>\n",
       "      <td>36.850</td>\n",
       "      <td>0</td>\n",
       "      <td>1629.83350</td>\n",
       "      <td>0</td>\n",
       "      <td>0</td>\n",
       "    </tr>\n",
       "    <tr>\n",
       "      <td>1336</td>\n",
       "      <td>21</td>\n",
       "      <td>25.800</td>\n",
       "      <td>0</td>\n",
       "      <td>2007.94500</td>\n",
       "      <td>0</td>\n",
       "      <td>0</td>\n",
       "    </tr>\n",
       "    <tr>\n",
       "      <td>1337</td>\n",
       "      <td>61</td>\n",
       "      <td>29.070</td>\n",
       "      <td>0</td>\n",
       "      <td>29141.36030</td>\n",
       "      <td>0</td>\n",
       "      <td>1</td>\n",
       "    </tr>\n",
       "  </tbody>\n",
       "</table>\n",
       "<p>1338 rows × 6 columns</p>\n",
       "</div>"
      ],
      "text/plain": [
       "      age     bmi  children      charges  sex_male  smoker_yes\n",
       "0      19  27.900         0  16884.92400         0           1\n",
       "1      18  33.770         1   1725.55230         1           0\n",
       "2      28  33.000         3   4449.46200         1           0\n",
       "3      33  22.705         0  21984.47061         1           0\n",
       "4      32  28.880         0   3866.85520         1           0\n",
       "...   ...     ...       ...          ...       ...         ...\n",
       "1333   50  30.970         3  10600.54830         1           0\n",
       "1334   18  31.920         0   2205.98080         0           0\n",
       "1335   18  36.850         0   1629.83350         0           0\n",
       "1336   21  25.800         0   2007.94500         0           0\n",
       "1337   61  29.070         0  29141.36030         0           1\n",
       "\n",
       "[1338 rows x 6 columns]"
      ]
     },
     "execution_count": 5,
     "metadata": {},
     "output_type": "execute_result"
    }
   ],
   "source": [
    "dataset"
   ]
  },
  {
   "cell_type": "code",
   "execution_count": 6,
   "metadata": {},
   "outputs": [
    {
     "data": {
      "text/plain": [
       "Index(['age', 'bmi', 'children', 'charges', 'sex_male', 'smoker_yes'], dtype='object')"
      ]
     },
     "execution_count": 6,
     "metadata": {},
     "output_type": "execute_result"
    }
   ],
   "source": [
    "dataset.columns"
   ]
  },
  {
   "cell_type": "code",
   "execution_count": 7,
   "metadata": {},
   "outputs": [
    {
     "data": {
      "text/html": [
       "<div>\n",
       "<style scoped>\n",
       "    .dataframe tbody tr th:only-of-type {\n",
       "        vertical-align: middle;\n",
       "    }\n",
       "\n",
       "    .dataframe tbody tr th {\n",
       "        vertical-align: top;\n",
       "    }\n",
       "\n",
       "    .dataframe thead th {\n",
       "        text-align: right;\n",
       "    }\n",
       "</style>\n",
       "<table border=\"1\" class=\"dataframe\">\n",
       "  <thead>\n",
       "    <tr style=\"text-align: right;\">\n",
       "      <th></th>\n",
       "      <th>age</th>\n",
       "      <th>bmi</th>\n",
       "      <th>children</th>\n",
       "      <th>sex_male</th>\n",
       "      <th>smoker_yes</th>\n",
       "    </tr>\n",
       "  </thead>\n",
       "  <tbody>\n",
       "    <tr>\n",
       "      <td>0</td>\n",
       "      <td>19</td>\n",
       "      <td>27.900</td>\n",
       "      <td>0</td>\n",
       "      <td>0</td>\n",
       "      <td>1</td>\n",
       "    </tr>\n",
       "    <tr>\n",
       "      <td>1</td>\n",
       "      <td>18</td>\n",
       "      <td>33.770</td>\n",
       "      <td>1</td>\n",
       "      <td>1</td>\n",
       "      <td>0</td>\n",
       "    </tr>\n",
       "    <tr>\n",
       "      <td>2</td>\n",
       "      <td>28</td>\n",
       "      <td>33.000</td>\n",
       "      <td>3</td>\n",
       "      <td>1</td>\n",
       "      <td>0</td>\n",
       "    </tr>\n",
       "    <tr>\n",
       "      <td>3</td>\n",
       "      <td>33</td>\n",
       "      <td>22.705</td>\n",
       "      <td>0</td>\n",
       "      <td>1</td>\n",
       "      <td>0</td>\n",
       "    </tr>\n",
       "    <tr>\n",
       "      <td>4</td>\n",
       "      <td>32</td>\n",
       "      <td>28.880</td>\n",
       "      <td>0</td>\n",
       "      <td>1</td>\n",
       "      <td>0</td>\n",
       "    </tr>\n",
       "    <tr>\n",
       "      <td>...</td>\n",
       "      <td>...</td>\n",
       "      <td>...</td>\n",
       "      <td>...</td>\n",
       "      <td>...</td>\n",
       "      <td>...</td>\n",
       "    </tr>\n",
       "    <tr>\n",
       "      <td>1333</td>\n",
       "      <td>50</td>\n",
       "      <td>30.970</td>\n",
       "      <td>3</td>\n",
       "      <td>1</td>\n",
       "      <td>0</td>\n",
       "    </tr>\n",
       "    <tr>\n",
       "      <td>1334</td>\n",
       "      <td>18</td>\n",
       "      <td>31.920</td>\n",
       "      <td>0</td>\n",
       "      <td>0</td>\n",
       "      <td>0</td>\n",
       "    </tr>\n",
       "    <tr>\n",
       "      <td>1335</td>\n",
       "      <td>18</td>\n",
       "      <td>36.850</td>\n",
       "      <td>0</td>\n",
       "      <td>0</td>\n",
       "      <td>0</td>\n",
       "    </tr>\n",
       "    <tr>\n",
       "      <td>1336</td>\n",
       "      <td>21</td>\n",
       "      <td>25.800</td>\n",
       "      <td>0</td>\n",
       "      <td>0</td>\n",
       "      <td>0</td>\n",
       "    </tr>\n",
       "    <tr>\n",
       "      <td>1337</td>\n",
       "      <td>61</td>\n",
       "      <td>29.070</td>\n",
       "      <td>0</td>\n",
       "      <td>0</td>\n",
       "      <td>1</td>\n",
       "    </tr>\n",
       "  </tbody>\n",
       "</table>\n",
       "<p>1338 rows × 5 columns</p>\n",
       "</div>"
      ],
      "text/plain": [
       "      age     bmi  children  sex_male  smoker_yes\n",
       "0      19  27.900         0         0           1\n",
       "1      18  33.770         1         1           0\n",
       "2      28  33.000         3         1           0\n",
       "3      33  22.705         0         1           0\n",
       "4      32  28.880         0         1           0\n",
       "...   ...     ...       ...       ...         ...\n",
       "1333   50  30.970         3         1           0\n",
       "1334   18  31.920         0         0           0\n",
       "1335   18  36.850         0         0           0\n",
       "1336   21  25.800         0         0           0\n",
       "1337   61  29.070         0         0           1\n",
       "\n",
       "[1338 rows x 5 columns]"
      ]
     },
     "execution_count": 7,
     "metadata": {},
     "output_type": "execute_result"
    }
   ],
   "source": [
    "independent=dataset[['age', 'bmi', 'children', 'sex_male', 'smoker_yes']]\n",
    "independent"
   ]
  },
  {
   "cell_type": "code",
   "execution_count": 8,
   "metadata": {},
   "outputs": [
    {
     "data": {
      "text/plain": [
       "0       16884.92400\n",
       "1        1725.55230\n",
       "2        4449.46200\n",
       "3       21984.47061\n",
       "4        3866.85520\n",
       "           ...     \n",
       "1333    10600.54830\n",
       "1334     2205.98080\n",
       "1335     1629.83350\n",
       "1336     2007.94500\n",
       "1337    29141.36030\n",
       "Name: charges, Length: 1338, dtype: float64"
      ]
     },
     "execution_count": 8,
     "metadata": {},
     "output_type": "execute_result"
    }
   ],
   "source": [
    "dependent=dataset['charges']\n",
    "dependent"
   ]
  },
  {
   "cell_type": "code",
   "execution_count": 48,
   "metadata": {},
   "outputs": [],
   "source": [
    "from sklearn.model_selection import train_test_split\n",
    "x_train,x_test,y_train,y_test=train_test_split(independent,dependent,test_size=0.30,random_state=0)"
   ]
  },
  {
   "cell_type": "code",
   "execution_count": 49,
   "metadata": {},
   "outputs": [],
   "source": [
    "#https://scikit-learn.org/stable/modules/generated/sklearn.tree.DecisionTreeRegressor.html\n",
    "from sklearn.tree import DecisionTreeRegressor\n",
    "regressor = DecisionTreeRegressor(criterion='mse', splitter='best', max_features='log2')\n",
    "#regressor = DecisionTreeRegressor()\n",
    "regressor = regressor.fit(x_train, y_train)"
   ]
  },
  {
   "cell_type": "code",
   "execution_count": 50,
   "metadata": {},
   "outputs": [
    {
     "data": {
      "image/png": "[encoded data removed]",
      "text/plain": [
       "<Figure size 432x288 with 1 Axes>"
      ]
     },
     "metadata": {
      "needs_background": "light"
     },
     "output_type": "display_data"
    }
   ],
   "source": [
    "import matplotlib.pyplot as plt\n",
    "from sklearn import tree\n",
    "tree.plot_tree(regressor)\n",
    "plt.show()"
   ]
  },
  {
   "cell_type": "code",
   "execution_count": 51,
   "metadata": {},
   "outputs": [
    {
     "data": {
      "text/plain": [
       "array([ 9144.565   ,  8930.93455 , 44202.6536  , 13143.86485 ,\n",
       "        9264.797   , 21984.47061 ,  1615.7667  , 10381.4787  ,\n",
       "        6571.544   ,  5253.524   ,  5693.4305  ,  9715.841   ,\n",
       "        7345.7266  ,  4992.3764  , 18246.4955  ,  9101.798   ,\n",
       "       12142.5786  ,  3292.52985 ,  6455.86265 , 17560.37975 ,\n",
       "       23306.547   , 13607.36875 ,  9625.92    , 37829.7242  ,\n",
       "        1826.843   ,  4673.3922  ,  4134.08245 ,  8538.28845 ,\n",
       "        3161.454   ,  8968.33    ,  8252.2843  , 42211.1382  ,\n",
       "       12981.3457  , 20781.48892 , 18033.9679  ,  3554.203   ,\n",
       "        8733.22925 , 34806.4677  , 39836.519   ,  1880.07    ,\n",
       "        4134.08245 ,  2866.091   , 17043.3414  , 49577.6624  ,\n",
       "       36307.7983  ,  3579.8287  ,  9101.798   ,  6389.37785 ,\n",
       "        4719.52405 , 12032.326   ,  2473.3341  ,  2801.2588  ,\n",
       "       28868.6639  , 46661.4424  , 11093.6229  , 19673.33573 ,\n",
       "        1826.843   ,  8782.469   ,  7726.854   , 14349.8544  ,\n",
       "        1639.5631  , 46130.5265  , 14119.62    , 25333.33284 ,\n",
       "        9563.029   ,  9877.6077  , 33750.2918  , 41949.2441  ,\n",
       "        3077.0955  ,  7512.267   , 13429.0354  , 11946.6259  ,\n",
       "       17560.37975 , 13981.85035 , 12629.8967  , 12638.195   ,\n",
       "        8688.85885 ,  8968.33    , 19539.243   , 42211.1382  ,\n",
       "       11658.11505 , 63770.42801 ,  1981.5819  , 28340.18885 ,\n",
       "       39556.4945  , 20984.0936  , 28476.73499 ,  2897.3235  ,\n",
       "       12913.9924  , 36950.2567  ,  6128.79745 , 10796.35025 ,\n",
       "       28476.73499 ,  8516.829   , 12404.8791  ,  4149.736   ,\n",
       "       43921.1837  , 42760.5022  ,  5152.134   , 10982.5013  ,\n",
       "        1981.5819  , 23563.01618 , 20177.67113 , 36950.2567  ,\n",
       "       21259.37795 ,  4134.08245 , 11165.41765 ,  3021.80915 ,\n",
       "       11362.755   , 45008.9555  , 12094.478   ,  3471.4096  ,\n",
       "        9447.25035 , 34617.84065 , 42211.1382  ,  6593.5083  ,\n",
       "        1832.094   , 21232.18226 , 36910.60803 , 10264.4421  ,\n",
       "       40720.55105 , 10197.7722  , 13831.1152  , 18963.17192 ,\n",
       "        7624.63    ,  4529.477   , 23887.6627  , 18767.7377  ,\n",
       "       48673.5588  ,  1534.3045  ,  8825.086   ,  1727.54    ,\n",
       "        7358.17565 ,  8688.85885 , 19350.3689  , 34672.1472  ,\n",
       "       17904.52705 , 10156.7832  , 21677.28345 ,  2639.0429  ,\n",
       "        1877.9294  , 10796.35025 ,  8978.1851  ,  9850.432   ,\n",
       "        5125.2157  , 13822.803   , 36910.60803 , 22395.74424 ,\n",
       "        1628.4709  , 10436.096   ,  7077.1894  , 38126.2465  ,\n",
       "        9872.701   , 11272.33139 ,  2719.27975 ,  5910.944   ,\n",
       "        2416.955   , 11272.33139 ,  9101.798   ,  9414.92    ,\n",
       "        4449.462   , 12574.049   , 12629.8967  ,  9877.6077  ,\n",
       "        4134.08245 ,  4449.462   , 16884.924   ,  6128.79745 ,\n",
       "        5031.26955 ,  2217.46915 ,  4449.462   ,  4438.2634  ,\n",
       "        8520.026   ,  1826.843   ,  3877.30425 ,  4449.462   ,\n",
       "        4827.90495 ,  6123.5688  , 24869.8368  ,  1712.227   ,\n",
       "       10806.839   ,  5373.36425 , 11353.2276  ,  1826.843   ,\n",
       "       11737.84884 , 29330.98315 ,  1981.5819  ,  2585.269   ,\n",
       "       16069.08475 , 10043.249   , 39727.614   , 20177.67113 ,\n",
       "        5478.0368  , 25678.77845 ,  1826.843   ,  2045.68525 ,\n",
       "        4074.4537  ,  6128.79745 , 19442.3535  ,  4454.40265 ,\n",
       "       10928.849   , 47055.5321  , 11881.9696  , 20745.9891  ,\n",
       "       19442.3535  , 41661.602   ,  5615.369   ,  9144.565   ,\n",
       "       24915.04626 ,  1163.4627  ,  8964.06055 , 13844.7972  ,\n",
       "        4391.652   ,  2855.43755 ,  6393.60345 ,  2395.17155 ,\n",
       "        6548.19505 ,  4719.52405 , 14001.1338  ,  6933.24225 ,\n",
       "        6184.2994  ,  7985.815   ,  8988.15875 ,  4992.3764  ,\n",
       "       12430.95335 , 14410.9321  , 33471.97189 , 12224.35085 ,\n",
       "        6985.50695 ,  2045.68525 ,  1712.227   ,  8334.5896  ,\n",
       "       21797.0004  ,  2801.2588  , 23288.9284  ,  7256.7231  ,\n",
       "        9447.25035 , 34472.841   ,  6123.5688  , 11150.78    ,\n",
       "        7077.1894  , 18223.4512  ,  7749.1564  ,  6250.435   ,\n",
       "        8944.1151  , 10085.846   ,  3077.0955  ,  7345.7266  ,\n",
       "        2150.469   ,  6272.4772  , 18328.2381  , 47291.055   ,\n",
       "        3500.6123  , 28476.73499 , 21344.8467  ,  1704.70015 ,\n",
       "       28340.18885 ,  2211.13075 , 12609.88702 ,  3594.17085 ,\n",
       "        8603.8234  , 41661.602   , 45008.9555  , 27000.98473 ,\n",
       "        6389.37785 , 10982.5013  , 18765.87545 ,  9225.2564  ,\n",
       "       41949.2441  ,  1137.011   , 36021.0112  ,  4889.9995  ,\n",
       "       13607.36875 , 22395.74424 , 39774.2763  ,  5012.471   ,\n",
       "       10072.05505 ,  8604.48365 ,  1980.07    , 13937.6665  ,\n",
       "       12224.35085 , 19214.70553 , 12146.971   , 21344.8467  ,\n",
       "        6082.405   ,  4449.462   ,  8965.79575 , 23887.6627  ,\n",
       "        3292.52985 ,  1705.6245  ,  2913.569   , 47896.79135 ,\n",
       "        8428.0693  ,  4149.736   , 11881.9696  , 11881.9696  ,\n",
       "       34838.873   ,  7077.1894  ,  5373.36425 ,  8798.593   ,\n",
       "        1639.5631  ,  3481.868   , 15006.57945 , 16115.3045  ,\n",
       "       13844.7972  ,  2045.68525 ,  3956.07145 ,  8027.968   ,\n",
       "        9144.565   , 13747.87235 , 20745.9891  ,  6128.79745 ,\n",
       "       20167.33603 ,  1744.465   ,  5757.41345 , 12404.8791  ,\n",
       "        8601.3293  ,  2304.0022  ,  6250.435   , 48885.13561 ,\n",
       "        3500.6123  ,  3956.07145 ,  1731.677   , 20878.78443 ,\n",
       "        3021.80915 , 12224.35085 , 47896.79135 , 20984.0936  ,\n",
       "        9778.3472  , 42760.5022  , 11674.13    , 19442.3535  ,\n",
       "        9957.7216  ,  3443.064   , 29523.1656  ,  3947.4131  ,\n",
       "       13415.0381  ,  2221.56445 , 20167.33603 ,  3176.8159  ,\n",
       "       24869.8368  , 28476.73499 ,  2395.17155 , 37133.8982  ,\n",
       "        6128.79745 ,  5266.3656  , 24106.91255 ,  1639.5631  ,\n",
       "        7726.854   ,  2913.569   , 11299.343   ,  3208.787   ,\n",
       "       11326.71487 ,  3659.346   , 43921.1837  ,  8601.3293  ,\n",
       "       37701.8768  , 44501.3982  ,  6123.5688  ,  7512.267   ,\n",
       "        1639.5631  ,  4992.3764  ,  2801.2588  ,  8964.06055 ,\n",
       "       43813.8661  , 10965.446   ,  1731.677   , 12124.9924  ,\n",
       "        2020.5523  , 20878.78443 ,  4438.2634  ,  1682.597   ,\n",
       "        4438.2634  , 34828.654   ,  2775.19215 ,  2196.4732  ,\n",
       "       39047.285   , 10791.96    , 43813.8661  , 11931.12525 ,\n",
       "       23563.01618 ,  2680.9493  ,  2457.21115 , 10043.249   ,\n",
       "        4747.0529  ,  1622.1885  ,  9625.92    ,  7281.5056  ,\n",
       "        5966.8874  , 20177.67113 , 13126.67745 , 44585.45587 ,\n",
       "        1526.312   , 25656.57526 ,  7882.429475, 28476.73499 ,\n",
       "       11090.7178  ,  3292.52985 , 18223.4512  , 11396.9002  ,\n",
       "       16085.1275  , 14254.6082  ])"
      ]
     },
     "execution_count": 51,
     "metadata": {},
     "output_type": "execute_result"
    }
   ],
   "source": [
    "y_predict=regressor.predict(x_test)\n",
    "y_predict"
   ]
  },
  {
   "cell_type": "code",
   "execution_count": 52,
   "metadata": {},
   "outputs": [
    {
     "data": {
      "text/plain": [
       "0.7050523202555656"
      ]
     },
     "execution_count": 52,
     "metadata": {},
     "output_type": "execute_result"
    }
   ],
   "source": [
    "from sklearn.metrics import r2_score\n",
    "r_score=r2_score(y_test,y_predict)\n",
    "r_score"
   ]
  },
  {
   "cell_type": "code",
   "execution_count": 53,
   "metadata": {},
   "outputs": [],
   "source": [
    "import pickle\n",
    "filename=\"finalized_model_DecisionTree.sav\"\n",
    "pickle.dump(regressor,open(filename,'wb'))"
   ]
  },
  {
   "cell_type": "code",
   "execution_count": 54,
   "metadata": {},
   "outputs": [
    {
     "data": {
      "text/plain": [
       "array([15555.18875])"
      ]
     },
     "execution_count": 54,
     "metadata": {},
     "output_type": "execute_result"
    }
   ],
   "source": [
    "loaded_model=pickle.load(open(\"finalized_model_DecisionTree.sav\",'rb'))\n",
    "result=loaded_model.predict([[1234,345,4565,1,0]])\n",
    "result"
   ]
  },
  {
   "cell_type": "code",
   "execution_count": null,
   "metadata": {},
   "outputs": [],
   "source": []
  }
 ],
 "metadata": {
  "kernelspec": {
   "display_name": "Python 3",
   "language": "python",
   "name": "python3"
  },
  "language_info": {
   "codemirror_mode": {
    "name": "ipython",
    "version": 3
   },
   "file_extension": ".py",
   "mimetype": "text/x-python",
   "name": "python",
   "nbconvert_exporter": "python",
   "pygments_lexer": "ipython3",
   "version": "3.7.4"
  }
 },
 "nbformat": 4,
 "nbformat_minor": 2
}
